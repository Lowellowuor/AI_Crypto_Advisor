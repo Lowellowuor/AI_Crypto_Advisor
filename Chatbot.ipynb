{
 "cells": [
  {
   "cell_type": "code",
   "execution_count": null,
   "id": "40017224-cdda-48a5-9860-421f2b2444c4",
   "metadata": {},
   "outputs": [],
   "source": [
    "# 📦 Install necessary packages\n",
    "!pip install requests nltk\n",
    "!pip install textblob\n",
    "!pip install random\n",
    "!pip install time\n",
    "# 📚 Import libraries\n",
    "import requests\n",
    "import nltk\n",
    "nltk.download('punkt')\n",
    "from nltk.tokenize import word_tokenize\n",
    "\n",
    "# 🧠 Predefined crypto dataset for rule-based logic\n",
    "crypto_db = {\n",
    "    \"Bitcoin\": {\n",
    "        \"price_trend\": \"rising\",\n",
    "        \"market_cap\": \"high\",\n",
    "        \"energy_use\": \"high\",\n",
    "        \"sustainability_score\": 3/10\n",
    "    },\n",
    "    \"Ethereum\": {\n",
    "        \"price_trend\": \"stable\",\n",
    "        \"market_cap\": \"high\",\n",
    "        \"energy_use\": \"medium\",\n",
    "        \"sustainability_score\": 6/10\n",
    "    },\n",
    "    \"Cardano\": {\n",
    "        \"price_trend\": \"rising\",\n",
    "        \"market_cap\": \"medium\",\n",
    "        \"energy_use\": \"low\",\n",
    "        \"sustainability_score\": 8/10\n",
    "    }\n",
    "}\n",
    "# 🌐 Real-time API function\n",
    "def get_price_from_api(coin_id):\n",
    "    url = f\"https://api.coingecko.com/api/v3/coins/{coin_id}\"\n",
    "    response = requests.get(url)\n",
    "    if response.status_code == 200:\n",
    "        data = response.json()\n",
    "        price = data['market_data']['current_price']['usd']\n",
    "        return price\n",
    "    else:\n",
    "        return None\n"
   ]
  }
 ],
 "metadata": {
  "kernelspec": {
   "display_name": "anaconda-2024.02-py310",
   "language": "python",
   "name": "conda-env-anaconda-2024.02-py310-py"
  },
  "language_info": {
   "codemirror_mode": {
    "name": "ipython",
    "version": 3
   },
   "file_extension": ".py",
   "mimetype": "text/x-python",
   "name": "python",
   "nbconvert_exporter": "python",
   "pygments_lexer": "ipython3",
   "version": "3.10.14"
  }
 },
 "nbformat": 4,
 "nbformat_minor": 5
}
